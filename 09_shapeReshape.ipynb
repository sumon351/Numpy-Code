{
 "cells": [
  {
   "cell_type": "markdown",
   "id": "8a8a6343-a546-468f-a5fb-b80125ece66d",
   "metadata": {},
   "source": [
    "# shape and reshape "
   ]
  },
  {
   "cell_type": "markdown",
   "id": "425191bc-a31d-48fd-8096-11b3c6d9c59f",
   "metadata": {},
   "source": [
    "# shape"
   ]
  },
  {
   "cell_type": "code",
   "execution_count": 1,
   "id": "ce0b00c3-4ac6-4f39-ac31-789318a51849",
   "metadata": {},
   "outputs": [
    {
     "name": "stdout",
     "output_type": "stream",
     "text": [
      "[1 2 3 4 5 6 7 8]\n",
      "\n",
      "(8,)\n"
     ]
    }
   ],
   "source": [
    "import numpy as np\n",
    "x=np.array([1,2,3,4,5,6,7,8])\n",
    "print(x)\n",
    "print()\n",
    "print(x.shape)"
   ]
  },
  {
   "cell_type": "code",
   "execution_count": 2,
   "id": "1a8c6ac6-04f1-4bea-858b-7aa690d41cd6",
   "metadata": {},
   "outputs": [
    {
     "name": "stdout",
     "output_type": "stream",
     "text": [
      "[[1 2 3]\n",
      " [4 5 6]]\n",
      "\n",
      "(2, 3)\n"
     ]
    }
   ],
   "source": [
    "x=np.array([[1,2,3],[4,5,6]])\n",
    "print(x)\n",
    "print()\n",
    "print(x.shape)"
   ]
  },
  {
   "cell_type": "code",
   "execution_count": 3,
   "id": "44f39868-e3c9-469f-bb20-73892a387d75",
   "metadata": {},
   "outputs": [
    {
     "name": "stdout",
     "output_type": "stream",
     "text": [
      "[[1 2 3]\n",
      " [4 5 6]\n",
      " [1 2 3]]\n",
      "\n",
      "(3, 3)\n"
     ]
    }
   ],
   "source": [
    "x=np.array([[1,2,3],[4,5,6],[1,2,3]])\n",
    "print(x)\n",
    "print()\n",
    "print(x.shape)"
   ]
  },
  {
   "cell_type": "code",
   "execution_count": 4,
   "id": "8882ec8d-b6bc-4fa5-9561-513f98c6a613",
   "metadata": {},
   "outputs": [
    {
     "name": "stdout",
     "output_type": "stream",
     "text": [
      "[[1 2 3 2]\n",
      " [4 5 4 6]\n",
      " [1 2 5 3]]\n",
      "\n",
      "(3, 4)\n"
     ]
    }
   ],
   "source": [
    "x=np.array([[1,2,3,2],[4,5,4,6],[1,2,5,3]])\n",
    "print(x)\n",
    "print()\n",
    "print(x.shape)"
   ]
  },
  {
   "cell_type": "code",
   "execution_count": 5,
   "id": "96e5bcae-1517-44ba-8096-659967f5a077",
   "metadata": {},
   "outputs": [
    {
     "name": "stdout",
     "output_type": "stream",
     "text": [
      "4\n",
      "[[[[1 2 3 4]]]]\n",
      "(1, 1, 1, 4)\n"
     ]
    }
   ],
   "source": [
    "# multidimensional arrays shape count\n",
    "x=np.array([1,2,3,4],ndmin=4)\n",
    "print(x.ndim)\n",
    "print(x)\n",
    "print(x.shape)"
   ]
  },
  {
   "cell_type": "code",
   "execution_count": 6,
   "id": "e589962f-ea4b-4645-8879-a66f1dbe6603",
   "metadata": {},
   "outputs": [
    {
     "name": "stdout",
     "output_type": "stream",
     "text": [
      "[[[1 2 3 4]\n",
      "  [4 5 6 7]\n",
      "  [4 3 2 1]\n",
      "  [9 0 8 7]]]\n",
      "\n",
      "(1, 4, 4)\n"
     ]
    }
   ],
   "source": [
    "# 3D array with shape\n",
    "x=np.array([[[1,2,3,4],[4,5,6,7],[4,3,2,1],[9,0,8,7]]])\n",
    "print(x)\n",
    "print()\n",
    "print(x.shape)"
   ]
  },
  {
   "cell_type": "code",
   "execution_count": 7,
   "id": "84a5d078-b8cf-451f-a228-d8b49a3b86c8",
   "metadata": {},
   "outputs": [
    {
     "name": "stdout",
     "output_type": "stream",
     "text": [
      "[[[1 2 3 4]\n",
      "  [4 5 6 7]\n",
      "  [4 3 2 1]\n",
      "  [9 0 8 7]]\n",
      "\n",
      " [[1 2 3 4]\n",
      "  [5 6 7 8]\n",
      "  [1 2 3 4]\n",
      "  [5 6 7 8]]]\n",
      "\n",
      "(2, 4, 4)\n"
     ]
    }
   ],
   "source": [
    "# 3D array with shape\n",
    "x=np.array([[[1,2,3,4],[4,5,6,7],[4,3,2,1],[9,0,8,7]],[[1,2,3,4],[5,6,7,8],[1,2,3,4],[5,6,7,8]]])\n",
    "print(x)\n",
    "print()\n",
    "print(x.shape)"
   ]
  },
  {
   "cell_type": "markdown",
   "id": "f11b6da0-ae17-41e0-9bf9-33f30d7ed73f",
   "metadata": {},
   "source": [
    "# reshape"
   ]
  },
  {
   "cell_type": "code",
   "execution_count": null,
   "id": "b590f90b-1c1a-4843-9adc-9cc7b99dbe95",
   "metadata": {},
   "outputs": [],
   "source": [
    "# 1D to 2D converted\n",
    "import numpy as np\n",
    "x=np.array([1,2,3,4,5,6])\n",
    "print(x)\n",
    "print(x.ndim)\n",
    "print()\n",
    "x1=x.reshape(3,2)\n",
    "print(x1)\n",
    "print(x1.ndim)"
   ]
  },
  {
   "cell_type": "code",
   "execution_count": 1,
   "id": "74cd2269-d036-4067-ac64-172d3cdc3b9b",
   "metadata": {},
   "outputs": [
    {
     "name": "stdout",
     "output_type": "stream",
     "text": [
      "[1 2 3 4 5 6]\n",
      "1\n",
      "\n",
      "[[1 2 3]\n",
      " [4 5 6]]\n",
      "2\n"
     ]
    }
   ],
   "source": [
    "\n",
    "# 1D to 2D converted\n",
    "import numpy as np\n",
    "x=np.array([1,2,3,4,5,6])\n",
    "print(x)\n",
    "print(x.ndim)\n",
    "print()\n",
    "x1=x.reshape(2,3)\n",
    "print(x1)\n",
    "print(x1.ndim)"
   ]
  },
  {
   "cell_type": "code",
   "execution_count": 2,
   "id": "efa6b02f-58cd-4eb1-860e-db0dcb0d03ba",
   "metadata": {},
   "outputs": [
    {
     "name": "stdout",
     "output_type": "stream",
     "text": [
      "[1 2 3 4 5 6 7 8]\n",
      "1\n",
      "\n",
      "[[[1 2]\n",
      "  [3 4]]\n",
      "\n",
      " [[5 6]\n",
      "  [7 8]]]\n",
      "3\n"
     ]
    }
   ],
   "source": [
    "# 1D to 3D converted\n",
    "import numpy as np\n",
    "x=np.array([1,2,3,4,5,6,7,8])\n",
    "print(x)\n",
    "print(x.ndim)\n",
    "print()\n",
    "x1=x.reshape(2,2,2)\n",
    "print(x1)\n",
    "print(x1.ndim)"
   ]
  },
  {
   "cell_type": "code",
   "execution_count": 3,
   "id": "5c17d312-5ba9-400b-a63f-a681030cbc0e",
   "metadata": {},
   "outputs": [
    {
     "name": "stdout",
     "output_type": "stream",
     "text": [
      "[1 2 3 4 5 6 7 8]\n",
      "1\n",
      "\n",
      "[[[1 2]\n",
      "  [3 4]]\n",
      "\n",
      " [[5 6]\n",
      "  [7 8]]]\n",
      "3\n",
      "\n",
      "[1 2 3 4 5 6 7 8]\n",
      "1\n"
     ]
    }
   ],
   "source": [
    "# 3D to 1D\n",
    "import numpy as np\n",
    "x=np.array([1,2,3,4,5,6,7,8])\n",
    "print(x)\n",
    "print(x.ndim)\n",
    "print()\n",
    "x1=x.reshape(2,2,2)\n",
    "print(x1)\n",
    "print(x1.ndim)\n",
    "print()\n",
    "one_dim=x1.reshape(-1)\n",
    "print(one_dim)\n",
    "print(one_dim.ndim)"
   ]
  },
  {
   "cell_type": "code",
   "execution_count": null,
   "id": "18615f26-5d06-47a8-8ed9-ea098c22ae23",
   "metadata": {},
   "outputs": [],
   "source": []
  }
 ],
 "metadata": {
  "kernelspec": {
   "display_name": "Python 3 (ipykernel)",
   "language": "python",
   "name": "python3"
  },
  "language_info": {
   "codemirror_mode": {
    "name": "ipython",
    "version": 3
   },
   "file_extension": ".py",
   "mimetype": "text/x-python",
   "name": "python",
   "nbconvert_exporter": "python",
   "pygments_lexer": "ipython3",
   "version": "3.12.7"
  }
 },
 "nbformat": 4,
 "nbformat_minor": 5
}
