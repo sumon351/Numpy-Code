{
 "cells": [
  {
   "cell_type": "markdown",
   "id": "d65fc022-19e3-43d3-9ef2-2bd7ed492db1",
   "metadata": {},
   "source": [
    "# arithmetic function"
   ]
  },
  {
   "cell_type": "code",
   "execution_count": 1,
   "id": "351a14fb-8b08-4afb-9da5-da90d903a509",
   "metadata": {},
   "outputs": [
    {
     "name": "stdout",
     "output_type": "stream",
     "text": [
      "Min : 1\n",
      "Max : 7\n"
     ]
    }
   ],
   "source": [
    "# min() / max() for 1D array\n",
    "import numpy as np\n",
    "x=np.array([1,2,3,4,5,3,2,7])\n",
    "print('Min :',np.min(x))\n",
    "print('Max :',np.max(x))"
   ]
  },
  {
   "cell_type": "code",
   "execution_count": 2,
   "id": "f0ead2ca-8914-40b8-bbc2-1ebb843f8fc6",
   "metadata": {},
   "outputs": [
    {
     "name": "stdout",
     "output_type": "stream",
     "text": [
      "Min : 1 0\n",
      "Max : 55 7\n"
     ]
    }
   ],
   "source": [
    "# argmin() / argmax() for calculating position (like index number)\n",
    "import numpy as np\n",
    "x=np.array([1,2,3,4,5,3,2,55])\n",
    "print('Min :',np.min(x),np.argmin(x))\n",
    "print('Max :',np.max(x),np.argmax(x))"
   ]
  },
  {
   "cell_type": "code",
   "execution_count": 3,
   "id": "c07a32ff-7b84-4adf-b40c-d6c7f5b2aab2",
   "metadata": {},
   "outputs": [
    {
     "name": "stdout",
     "output_type": "stream",
     "text": [
      "Max : [3 6]\n",
      "Min : [1 4]\n"
     ]
    }
   ],
   "source": [
    "# 2D array (axis=1--> row ) and (axis=0-->col)\n",
    "x=np.array([[1,2,3],[4,5,6]])\n",
    "print('Max :',np.max(x,axis=1))\n",
    "print('Min :',np.min(x,axis=1))"
   ]
  },
  {
   "cell_type": "code",
   "execution_count": null,
   "id": "b04463c7-93de-4e26-b628-9c2ec50e9162",
   "metadata": {},
   "outputs": [],
   "source": [
    "# 2D array (axis=1--> row ) and (axis=0-->col)\n",
    "x=np.array([[1,2,3],[4,5,6]])\n",
    "print('Max :',np.max(x,axis=0))\n",
    "print('Min :',np.min(x,axis=0))"
   ]
  },
  {
   "cell_type": "code",
   "execution_count": 4,
   "id": "05550dd6-7359-4f43-b85e-dd498aba1491",
   "metadata": {},
   "outputs": [
    {
     "name": "stdout",
     "output_type": "stream",
     "text": [
      "sqrt : [3.         1.41421356 1.73205081 2.        ]\n"
     ]
    }
   ],
   "source": [
    "# sqrt()\n",
    "x=np.array([9,2,3,4])\n",
    "print('sqrt :',np.sqrt(x))"
   ]
  },
  {
   "cell_type": "code",
   "execution_count": 5,
   "id": "fe03b062-5b43-4dd1-8c27-c6f94def882f",
   "metadata": {},
   "outputs": [
    {
     "name": "stdout",
     "output_type": "stream",
     "text": [
      "sin : [ 0.41211849  0.90929743  0.14112001 -0.7568025 ]\n"
     ]
    }
   ],
   "source": [
    "# sin()\n",
    "x=np.array([9,2,3,4])\n",
    "print('sin :',np.sin(x))"
   ]
  },
  {
   "cell_type": "code",
   "execution_count": 6,
   "id": "0f6be590-f88c-406c-ae0c-5e87329c5ef6",
   "metadata": {},
   "outputs": [
    {
     "name": "stdout",
     "output_type": "stream",
     "text": [
      "cos : [-0.91113026 -0.41614684 -0.9899925  -0.65364362]\n"
     ]
    }
   ],
   "source": [
    "# cos()\n",
    "x=np.array([9,2,3,4])\n",
    "print('cos :',np.cos(x))"
   ]
  },
  {
   "cell_type": "code",
   "execution_count": 7,
   "id": "112c4a7b-3b23-41c9-bb92-e2da559e4915",
   "metadata": {},
   "outputs": [
    {
     "name": "stdout",
     "output_type": "stream",
     "text": [
      "cumsum : [ 9 11 14 18]\n"
     ]
    }
   ],
   "source": [
    "# cumsum() / cumulative for statistics\n",
    "x=np.array([9,2,3,4])\n",
    "print('cumsum :',np.cumsum(x))\n"
   ]
  },
  {
   "cell_type": "code",
   "execution_count": null,
   "id": "44a9d8df-3f93-440e-8c36-39439017cc8c",
   "metadata": {},
   "outputs": [],
   "source": []
  }
 ],
 "metadata": {
  "kernelspec": {
   "display_name": "Python 3 (ipykernel)",
   "language": "python",
   "name": "python3"
  },
  "language_info": {
   "codemirror_mode": {
    "name": "ipython",
    "version": 3
   },
   "file_extension": ".py",
   "mimetype": "text/x-python",
   "name": "python",
   "nbconvert_exporter": "python",
   "pygments_lexer": "ipython3",
   "version": "3.12.7"
  }
 },
 "nbformat": 4,
 "nbformat_minor": 5
}
