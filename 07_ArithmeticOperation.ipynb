{
 "cells": [
  {
   "cell_type": "markdown",
   "id": "8b6f85e0-3a02-41e8-954e-ce62d8e03708",
   "metadata": {},
   "source": [
    "# arithmetic operation perform"
   ]
  },
  {
   "cell_type": "markdown",
   "id": "f7aa0728-5175-45b3-b256-836c80515e21",
   "metadata": {},
   "source": [
    "# 1-D array"
   ]
  },
  {
   "cell_type": "code",
   "execution_count": null,
   "id": "3ae7a2ef-9f16-4a2e-86ff-c46c44e94e4e",
   "metadata": {},
   "outputs": [],
   "source": [
    "# add\n",
    "import numpy as np\n",
    "x=np.array([1,2,3,4])\n",
    "add=x+3\n",
    "print(add)"
   ]
  },
  {
   "cell_type": "code",
   "execution_count": null,
   "id": "ae62dcad-d47e-4986-9c49-bf56bf7c9040",
   "metadata": {},
   "outputs": [],
   "source": [
    "x1=np.array([1,2,3,4])\n",
    "x2=np.array([1,2,3,4])\n",
    "add=x1+x2\n",
    "print(add)"
   ]
  },
  {
   "cell_type": "code",
   "execution_count": null,
   "id": "8427f6e1-5ec0-4fd0-bbc2-dbd91d31ffd6",
   "metadata": {},
   "outputs": [],
   "source": [
    "x1=np.array([1,2,3,4])\n",
    "x2=np.array([5,6,7,8])\n",
    "add=x1+x2\n",
    "print(add)"
   ]
  },
  {
   "cell_type": "code",
   "execution_count": null,
   "id": "2e76ebd8-ce0c-49ad-b31d-d5693cb5bcb1",
   "metadata": {},
   "outputs": [],
   "source": [
    "# subtraction\n",
    "import numpy as np\n",
    "x=np.array([1,2,3,4])\n",
    "sub=x-3\n",
    "print(sub)"
   ]
  },
  {
   "cell_type": "code",
   "execution_count": null,
   "id": "e803690b-d2d9-4cb4-86e2-6e7d40e072a6",
   "metadata": {},
   "outputs": [],
   "source": [
    "# multiplication\n",
    "import numpy as np\n",
    "x=np.array([1,2,3,4])\n",
    "mul=x*3\n",
    "print(mul)"
   ]
  },
  {
   "cell_type": "code",
   "execution_count": null,
   "id": "1df6f667-7250-445c-b108-74f5dda01935",
   "metadata": {},
   "outputs": [],
   "source": [
    "# division\n",
    "import numpy as np\n",
    "x=np.array([1,2,3,4])\n",
    "div=x/3\n",
    "print(div)"
   ]
  },
  {
   "cell_type": "code",
   "execution_count": null,
   "id": "a8fd185d-871f-40c1-86d6-5eecf8fca57f",
   "metadata": {},
   "outputs": [],
   "source": [
    "# modulus\n",
    "import numpy as np\n",
    "x=np.array([1,2,3,4])\n",
    "mod=x%3\n",
    "print(mod)"
   ]
  },
  {
   "cell_type": "code",
   "execution_count": null,
   "id": "9a213fc8-3f25-4574-bd1f-8cf31e45af5e",
   "metadata": {},
   "outputs": [],
   "source": [
    "# exponential\n",
    "import numpy as np\n",
    "x=np.array([1,2,3,4])\n",
    "exp=x**3\n",
    "print(exp)"
   ]
  },
  {
   "cell_type": "code",
   "execution_count": null,
   "id": "bc008a36-ff75-4fc0-ac79-473cfec74287",
   "metadata": {},
   "outputs": [],
   "source": [
    "# another way to solve this problems\n",
    "# add()\n",
    "import numpy as np\n",
    "x1=np.array([1,2,3,4])\n",
    "x2=np.array([1,2,3,4])\n",
    "x=np.add(x1,x2)\n",
    "print(x)"
   ]
  },
  {
   "cell_type": "code",
   "execution_count": null,
   "id": "5d5a55bd-6b71-47eb-9e0b-f08aa0c90d65",
   "metadata": {},
   "outputs": [],
   "source": [
    "# subtract()\n",
    "import numpy as np\n",
    "x1=np.array([5,2,6,4])\n",
    "x2=np.array([1,2,3,4])\n",
    "x=np.subtract(x1,x2)\n",
    "print(x)"
   ]
  },
  {
   "cell_type": "code",
   "execution_count": null,
   "id": "d974bd47-710a-47c7-a23d-5750a5827f80",
   "metadata": {},
   "outputs": [],
   "source": [
    "# multiply()\n",
    "import numpy as np\n",
    "x1=np.array([1,2,3,4])\n",
    "x2=np.array([1,2,3,4])\n",
    "x=np.multiply(x1,x2)\n",
    "print(x)"
   ]
  },
  {
   "cell_type": "code",
   "execution_count": null,
   "id": "e5141e4d-581c-4659-9c9f-de8f3d9c4ad6",
   "metadata": {},
   "outputs": [],
   "source": [
    "# divide()\n",
    "import numpy as np\n",
    "x1=np.array([1,2,3,4])\n",
    "x2=np.array([1,2,3,4])\n",
    "x=np.divide(x1,x2)\n",
    "print(x)"
   ]
  },
  {
   "cell_type": "code",
   "execution_count": null,
   "id": "8f661bd8-4124-45e7-8699-271dcf023580",
   "metadata": {},
   "outputs": [],
   "source": [
    "# mod()\n",
    "import numpy as np\n",
    "x1=np.array([1,2,3,4])\n",
    "x2=np.array([1,2,3,4])\n",
    "x=np.mod(x1,x2)\n",
    "print(x)"
   ]
  },
  {
   "cell_type": "code",
   "execution_count": null,
   "id": "05a3a925-7298-48c0-8771-1a9b728945b4",
   "metadata": {},
   "outputs": [],
   "source": [
    "# power()\n",
    "import numpy as np\n",
    "x1=np.array([1,2,3,4])\n",
    "x2=np.array([1,2,3,4])\n",
    "x=np.power(x1,x2)\n",
    "print(x)"
   ]
  },
  {
   "cell_type": "code",
   "execution_count": null,
   "id": "606c8e6d-ccb2-4b31-a64c-f679ad3be0ab",
   "metadata": {},
   "outputs": [],
   "source": [
    "# add()\n",
    "import numpy as np\n",
    "x1=np.array([1,2,3,4])\n",
    "\n",
    "x=np.add(x1,3)\n",
    "print(x)"
   ]
  },
  {
   "cell_type": "markdown",
   "id": "49395c30-b7af-458d-83d8-fcacfe81e1d6",
   "metadata": {},
   "source": [
    "# 2D array"
   ]
  },
  {
   "cell_type": "code",
   "execution_count": 1,
   "id": "9cc14635-7a3a-4a6e-8ce0-d44cd67de5f4",
   "metadata": {},
   "outputs": [
    {
     "name": "stdout",
     "output_type": "stream",
     "text": [
      "[[1 2 3]\n",
      " [4 5 6]]\n",
      "\n",
      "[[1 2 3]\n",
      " [4 5 6]]\n",
      "RESULT\n",
      "[[ 2  4  6]\n",
      " [ 8 10 12]]\n"
     ]
    }
   ],
   "source": [
    "# add()\n",
    "import numpy as np\n",
    "x1=np.array([[1,2,3],[4,5,6]])\n",
    "x2=np.array([[1,2,3],[4,5,6]])\n",
    "print(x1)\n",
    "print()\n",
    "print(x2)\n",
    "print('RESULT')\n",
    "x=np.add(x1,x2)\n",
    "print(x)"
   ]
  },
  {
   "cell_type": "code",
   "execution_count": 2,
   "id": "6f19973a-ffe1-488f-9016-331575e97b9d",
   "metadata": {},
   "outputs": [
    {
     "name": "stdout",
     "output_type": "stream",
     "text": [
      "[[1 2 3]\n",
      " [4 5 6]]\n",
      "\n",
      "[[1 2 3]\n",
      " [4 5 6]]\n",
      "RESULT\n",
      "[[ 1  4  9]\n",
      " [16 25 36]]\n"
     ]
    }
   ],
   "source": [
    "# multiply()\n",
    "import numpy as np\n",
    "x1=np.array([[1,2,3],[4,5,6]])\n",
    "x2=np.array([[1,2,3],[4,5,6]])\n",
    "print(x1)\n",
    "print()\n",
    "print(x2)\n",
    "print('RESULT')\n",
    "x=np.multiply(x1,x2)\n",
    "print(x)"
   ]
  },
  {
   "cell_type": "markdown",
   "id": "ac502e00-ea58-4a63-ae31-979e286b198a",
   "metadata": {},
   "source": [
    "# 3D array"
   ]
  },
  {
   "cell_type": "code",
   "execution_count": 3,
   "id": "3e479892-9ccf-41e6-b6ff-30a73af63a93",
   "metadata": {},
   "outputs": [
    {
     "name": "stdout",
     "output_type": "stream",
     "text": [
      "[[[ 2  4  6]\n",
      "  [ 8 10 12]\n",
      "  [14 16 18]]]\n"
     ]
    }
   ],
   "source": [
    "# add()\n",
    "import numpy as np\n",
    "x1=np.array([[[1,2,3],[4,5,6],[7,8,9]]])\n",
    "x2=np.array([[[1,2,3],[4,5,6],[7,8,9]]])\n",
    "x=np.add(x1,x2)\n",
    "print(x)"
   ]
  },
  {
   "cell_type": "code",
   "execution_count": null,
   "id": "ec6a9a2e-96de-47e0-87a7-311542597a45",
   "metadata": {},
   "outputs": [],
   "source": []
  }
 ],
 "metadata": {
  "kernelspec": {
   "display_name": "Python 3 (ipykernel)",
   "language": "python",
   "name": "python3"
  },
  "language_info": {
   "codemirror_mode": {
    "name": "ipython",
    "version": 3
   },
   "file_extension": ".py",
   "mimetype": "text/x-python",
   "name": "python",
   "nbconvert_exporter": "python",
   "pygments_lexer": "ipython3",
   "version": "3.12.7"
  }
 },
 "nbformat": 4,
 "nbformat_minor": 5
}
