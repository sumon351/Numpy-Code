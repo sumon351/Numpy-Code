{
 "cells": [
  {
   "cell_type": "markdown",
   "id": "8d216ad7-c228-4e58-a60d-cbe9d9707d97",
   "metadata": {},
   "source": [
    "# search array"
   ]
  },
  {
   "cell_type": "code",
   "execution_count": 1,
   "id": "32abe651-5560-47dd-b14a-8ea8fad0d6fb",
   "metadata": {},
   "outputs": [
    {
     "name": "stdout",
     "output_type": "stream",
     "text": [
      "(array([1, 5, 8], dtype=int64),)\n"
     ]
    }
   ],
   "source": [
    "import numpy as np\n",
    "x=np.array([2,5,8,3,4,5,3,2,5])\n",
    "x1=np.where(x==5)\n",
    "print(x1)"
   ]
  },
  {
   "cell_type": "code",
   "execution_count": 2,
   "id": "0ef0d1ff-4033-4e84-b10e-a79c9ce51208",
   "metadata": {},
   "outputs": [
    {
     "name": "stdout",
     "output_type": "stream",
     "text": [
      "(array([3, 6], dtype=int64),)\n"
     ]
    }
   ],
   "source": [
    "import numpy as np\n",
    "x=np.array([2,5,8,3,4,5,3,2,5])\n",
    "x1=np.where(x==3)\n",
    "print(x1)"
   ]
  },
  {
   "cell_type": "code",
   "execution_count": 3,
   "id": "4f3751ee-4590-49f4-b1dd-c272fc0bb617",
   "metadata": {},
   "outputs": [
    {
     "name": "stdout",
     "output_type": "stream",
     "text": [
      "(array([0, 7], dtype=int64),)\n"
     ]
    }
   ],
   "source": [
    "import numpy as np\n",
    "x=np.array([2,5,8,3,4,5,3,2,5])\n",
    "x1=np.where(x==2)\n",
    "print(x1)"
   ]
  },
  {
   "cell_type": "code",
   "execution_count": 4,
   "id": "ce66d9d9-42a3-4178-ba45-de0da330a9e5",
   "metadata": {},
   "outputs": [
    {
     "name": "stdout",
     "output_type": "stream",
     "text": [
      "(array([0, 2, 3, 4, 6, 7], dtype=int64),)\n"
     ]
    }
   ],
   "source": [
    "import numpy as np\n",
    "x=np.array([2,5,8,3,4,5,3,2,5])\n",
    "x1=np.where(x!=5)\n",
    "print(x1)"
   ]
  },
  {
   "cell_type": "code",
   "execution_count": 5,
   "id": "a54829b1-3ba8-4586-8971-d0a12ef4459b",
   "metadata": {},
   "outputs": [
    {
     "name": "stdout",
     "output_type": "stream",
     "text": [
      "(array([0, 2, 4, 7], dtype=int64),)\n"
     ]
    }
   ],
   "source": [
    "import numpy as np\n",
    "x=np.array([2,5,8,3,4,5,3,2,5])\n",
    "x1=np.where(x%2==0) # even\n",
    "print(x1)"
   ]
  },
  {
   "cell_type": "code",
   "execution_count": null,
   "id": "21d77fd5-2d16-4e7d-b13f-b261a875922e",
   "metadata": {},
   "outputs": [],
   "source": [
    "import numpy as np\n",
    "x=np.array([2,5,8,3,4,5,3,2,5])\n",
    "x1=np.where(x%2!=0) # even\n",
    "print(x1)"
   ]
  },
  {
   "cell_type": "markdown",
   "id": "73b438aa-9571-47eb-a093-d8071681beda",
   "metadata": {},
   "source": [
    "# sort array"
   ]
  },
  {
   "cell_type": "code",
   "execution_count": 6,
   "id": "e9fca13a-8ad5-40bf-a319-f7fe1310c61a",
   "metadata": {},
   "outputs": [
    {
     "name": "stdout",
     "output_type": "stream",
     "text": [
      "[4 3 5 7 9 1 4 5 9 7 3]\n",
      "\n",
      "[1 3 3 4 4 5 5 7 7 9 9]\n"
     ]
    }
   ],
   "source": [
    "x=np.array([4,3,5,7,9,1,4,5,9,7,3])\n",
    "x1=np.sort(x)\n",
    "print(x)\n",
    "print()\n",
    "print(x1)"
   ]
  },
  {
   "cell_type": "code",
   "execution_count": 7,
   "id": "72f8b63a-10e4-4d90-808a-c8367d0973ab",
   "metadata": {},
   "outputs": [
    {
     "name": "stdout",
     "output_type": "stream",
     "text": [
      "[[4 3 2 6 4]\n",
      " [9 2 5 1 6]]\n",
      "\n",
      "[[2 3 4 4 6]\n",
      " [1 2 5 6 9]]\n"
     ]
    }
   ],
   "source": [
    "#2D array sorting\n",
    "x=np.array([[4,3,2,6,4],[9,2,5,1,6]])\n",
    "x1=np.sort(x)\n",
    "print(x)\n",
    "print()\n",
    "print(x1)"
   ]
  },
  {
   "cell_type": "markdown",
   "id": "0ae951e6-2724-484b-8f37-ac9d8a30c212",
   "metadata": {},
   "source": [
    "# Filter array"
   ]
  },
  {
   "cell_type": "code",
   "execution_count": 8,
   "id": "26684770-7e9a-45bb-92ab-7cfd24098b1c",
   "metadata": {},
   "outputs": [
    {
     "name": "stdout",
     "output_type": "stream",
     "text": [
      "['a' 'd']\n",
      "<class 'numpy.ndarray'>\n"
     ]
    }
   ],
   "source": [
    "x=np.array(['a','b','k','d'])\n",
    "f=[True,False,False,True] # making list\n",
    "x1=x[f]\n",
    "print(x1)\n",
    "print(type(x1))"
   ]
  },
  {
   "cell_type": "code",
   "execution_count": null,
   "id": "4b7352d9-bb68-4675-9f98-97cda26f8555",
   "metadata": {},
   "outputs": [],
   "source": []
  }
 ],
 "metadata": {
  "kernelspec": {
   "display_name": "Python 3 (ipykernel)",
   "language": "python",
   "name": "python3"
  },
  "language_info": {
   "codemirror_mode": {
    "name": "ipython",
    "version": 3
   },
   "file_extension": ".py",
   "mimetype": "text/x-python",
   "name": "python",
   "nbconvert_exporter": "python",
   "pygments_lexer": "ipython3",
   "version": "3.12.7"
  }
 },
 "nbformat": 4,
 "nbformat_minor": 5
}
