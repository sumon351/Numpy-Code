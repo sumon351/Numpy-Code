{
 "cells": [
  {
   "cell_type": "markdown",
   "id": "ccb0d177-21f2-49e2-98bf-16fd26c870ea",
   "metadata": {},
   "source": [
    "# Matrix in Numpy"
   ]
  },
  {
   "cell_type": "code",
   "execution_count": 4,
   "id": "3bb8dd6f-80fb-4fdd-9cc1-25bd6449c185",
   "metadata": {},
   "outputs": [
    {
     "name": "stdout",
     "output_type": "stream",
     "text": [
      "[[1 2 3]\n",
      " [1 2 3]]\n",
      "<class 'numpy.matrix'>\n"
     ]
    }
   ],
   "source": [
    "# matrix\n",
    "import numpy as np\n",
    "x=np.matrix([[1,2,3],[1,2,3]])\n",
    "print(x)\n",
    "print(type(x))"
   ]
  },
  {
   "cell_type": "code",
   "execution_count": 5,
   "id": "633db7e5-8085-4602-8b1b-4e4b998da967",
   "metadata": {},
   "outputs": [
    {
     "name": "stdout",
     "output_type": "stream",
     "text": [
      "[[1 2 3]\n",
      " [1 2 3]]\n",
      "<class 'numpy.ndarray'>\n"
     ]
    }
   ],
   "source": [
    "# array\n",
    "import numpy as np\n",
    "x=np.array([[1,2,3],[1,2,3]])\n",
    "print(x)\n",
    "print(type(x))"
   ]
  },
  {
   "cell_type": "code",
   "execution_count": 10,
   "id": "10c20e62-60d2-4283-9985-ce0a235ec72a",
   "metadata": {},
   "outputs": [
    {
     "name": "stdout",
     "output_type": "stream",
     "text": [
      "[[1 2 3]\n",
      " [4 5 6]]\n",
      "\n",
      "[[7 8 9]\n",
      " [7 8 9]]\n",
      "\n",
      "[[ 8 10 12]\n",
      " [11 13 15]]\n"
     ]
    }
   ],
   "source": [
    "# arithmetic operation\n",
    "x1=np.matrix([[1,2,3],[4,5,6]])\n",
    "x2=np.matrix([[7,8,9],[7,8,9]])\n",
    "print(x1)\n",
    "print()\n",
    "print(x2)\n",
    "print()\n",
    "x=x1+x2\n",
    "print(x)\n"
   ]
  },
  {
   "cell_type": "code",
   "execution_count": 11,
   "id": "3041c645-05cc-4087-8173-8ef38668c49c",
   "metadata": {},
   "outputs": [
    {
     "name": "stdout",
     "output_type": "stream",
     "text": [
      "[[1 2 3]\n",
      " [4 5 6]]\n",
      "\n",
      "[[7 8 9]\n",
      " [7 8 9]]\n",
      "\n",
      "[[-6 -6 -6]\n",
      " [-3 -3 -3]]\n"
     ]
    }
   ],
   "source": [
    "x1=np.matrix([[1,2,3],[4,5,6]])\n",
    "x2=np.matrix([[7,8,9],[7,8,9]])\n",
    "print(x1)\n",
    "print()\n",
    "print(x2)\n",
    "print()\n",
    "x=x1-x2\n",
    "print(x)"
   ]
  },
  {
   "cell_type": "code",
   "execution_count": 15,
   "id": "e46f724f-58a4-4b29-8270-bad125e0d7cb",
   "metadata": {},
   "outputs": [
    {
     "name": "stdout",
     "output_type": "stream",
     "text": [
      "[[1 2]\n",
      " [4 5]]\n",
      "\n",
      "[[7 8]\n",
      " [7 8]]\n",
      "\n",
      "[[21 24]\n",
      " [63 72]]\n"
     ]
    }
   ],
   "source": [
    "# matrix multiplication\n",
    "x1=np.matrix([[1,2],[4,5]])\n",
    "x2=np.matrix([[7,8],[7,8]])\n",
    "print(x1)\n",
    "print()\n",
    "print(x2)\n",
    "print()\n",
    "\n",
    "print(x1.dot(x2))"
   ]
  },
  {
   "cell_type": "markdown",
   "id": "6eddb0a3-7481-4937-8abb-1c953afc8968",
   "metadata": {},
   "source": [
    "# matrix function"
   ]
  },
  {
   "cell_type": "markdown",
   "id": "9555ba9d-b9d2-4bb0-a947-2c35b5c21018",
   "metadata": {},
   "source": [
    "# transpose"
   ]
  },
  {
   "cell_type": "code",
   "execution_count": 16,
   "id": "31bd37ab-9378-4b6d-aa00-39d59464b2c7",
   "metadata": {},
   "outputs": [
    {
     "name": "stdout",
     "output_type": "stream",
     "text": [
      "[[1 2 3]\n",
      " [4 5 6]]\n",
      "\n",
      "[[1 4]\n",
      " [2 5]\n",
      " [3 6]]\n"
     ]
    }
   ],
   "source": [
    "x=np.matrix([[1,2,3],[4,5,6]])\n",
    "print(x)\n",
    "print()\n",
    "\n",
    "x1=np.transpose(x)\n",
    "print(x1)"
   ]
  },
  {
   "cell_type": "markdown",
   "id": "3c417c88-a555-451f-a628-47be545f13cf",
   "metadata": {},
   "source": [
    "# Swapaxes"
   ]
  },
  {
   "cell_type": "code",
   "execution_count": 19,
   "id": "588069f0-13b8-4294-8ba1-beed4d76304d",
   "metadata": {},
   "outputs": [
    {
     "name": "stdout",
     "output_type": "stream",
     "text": [
      "[[1 2 3]\n",
      " [4 5 6]]\n",
      "\n",
      "[[1 4]\n",
      " [2 5]\n",
      " [3 6]]\n"
     ]
    }
   ],
   "source": [
    "x=np.matrix([[1,2,3],[4,5,6]])\n",
    "print(x)\n",
    "print()\n",
    "\n",
    "x1=np.swapaxes(x,0,1)\n",
    "print(x1)"
   ]
  },
  {
   "cell_type": "markdown",
   "id": "2123e051-7061-4e50-ba74-7069a755a377",
   "metadata": {},
   "source": [
    "# inverse"
   ]
  },
  {
   "cell_type": "code",
   "execution_count": 24,
   "id": "0542de04-a4e2-4799-96e2-d88aa3eaf6ee",
   "metadata": {},
   "outputs": [
    {
     "name": "stdout",
     "output_type": "stream",
     "text": [
      "[[1 2]\n",
      " [4 5]]\n",
      "\n",
      "[[-1.66666667  0.66666667]\n",
      " [ 1.33333333 -0.33333333]]\n"
     ]
    }
   ],
   "source": [
    "x=np.matrix([[1,2],[4,5]])\n",
    "print(x)\n",
    "print()\n",
    "x1=np.linalg.inv(x)\n",
    "print(x1)"
   ]
  },
  {
   "cell_type": "markdown",
   "id": "261ca58f-aefc-43db-9339-473f60b4e221",
   "metadata": {},
   "source": [
    "# power"
   ]
  },
  {
   "cell_type": "code",
   "execution_count": null,
   "id": "58d2df26-bbd3-40c1-ae07-67c9dfb7264e",
   "metadata": {},
   "outputs": [],
   "source": []
  }
 ],
 "metadata": {
  "kernelspec": {
   "display_name": "Python 3 (ipykernel)",
   "language": "python",
   "name": "python3"
  },
  "language_info": {
   "codemirror_mode": {
    "name": "ipython",
    "version": 3
   },
   "file_extension": ".py",
   "mimetype": "text/x-python",
   "name": "python",
   "nbconvert_exporter": "python",
   "pygments_lexer": "ipython3",
   "version": "3.12.7"
  }
 },
 "nbformat": 4,
 "nbformat_minor": 5
}
