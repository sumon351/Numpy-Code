{
 "cells": [
  {
   "cell_type": "markdown",
   "id": "54a17318-de6e-41ac-ba87-6ccc2a3367b6",
   "metadata": {},
   "source": [
    "# joining and split"
   ]
  },
  {
   "cell_type": "markdown",
   "id": "af08346c-c030-4cf8-9876-64c60e97a8ae",
   "metadata": {},
   "source": [
    "# concatenate() for joining"
   ]
  },
  {
   "cell_type": "code",
   "execution_count": 1,
   "id": "5fe2b4fc-68a4-498e-b7e0-fc4d1a15b802",
   "metadata": {},
   "outputs": [
    {
     "name": "stdout",
     "output_type": "stream",
     "text": [
      "[1 2 3 4 5 2 3 4 5 6]\n"
     ]
    }
   ],
   "source": [
    "# 1D Arrays joining\n",
    "import numpy as np\n",
    "x1=np.array([1,2,3,4,5])\n",
    "x2=np.array([2,3,4,5,6])\n",
    "x=np.concatenate((x1,x2))\n",
    "print(x)"
   ]
  },
  {
   "cell_type": "code",
   "execution_count": 2,
   "id": "00594c2f-2db6-4d15-bbf0-d3c9f82cf9a7",
   "metadata": {},
   "outputs": [
    {
     "name": "stdout",
     "output_type": "stream",
     "text": [
      "[[1 2]\n",
      " [3 4]]\n",
      "\n",
      "[[5 6]\n",
      " [7 8]]\n",
      "\n",
      "[[1 2 5 6]\n",
      " [3 4 7 8]]\n"
     ]
    }
   ],
   "source": [
    "# 2D arrays joining\n",
    "import numpy as np\n",
    "x1=np.array([[1,2],[3,4]])\n",
    "x2=np.array([[5,6],[7,8]])\n",
    "x=np.concatenate((x1,x2),axis=1) # axis=1 means row side merged\n",
    "print(x1)\n",
    "print()\n",
    "print(x2)\n",
    "print()\n",
    "print(x)"
   ]
  },
  {
   "cell_type": "code",
   "execution_count": 3,
   "id": "4a98e05c-7589-415c-a541-08f95b0b8a20",
   "metadata": {},
   "outputs": [
    {
     "name": "stdout",
     "output_type": "stream",
     "text": [
      "[[1 2]\n",
      " [3 4]]\n",
      "\n",
      "[[5 6]\n",
      " [7 8]]\n",
      "\n",
      "[[1 2]\n",
      " [3 4]\n",
      " [5 6]\n",
      " [7 8]]\n"
     ]
    }
   ],
   "source": [
    "# 2D arrays joining\n",
    "import numpy as np\n",
    "x1=np.array([[1,2],[3,4]])\n",
    "x2=np.array([[5,6],[7,8]])\n",
    "x=np.concatenate((x1,x2),axis=0) # axis=0 means column side merged\n",
    "print(x1)\n",
    "print()\n",
    "print(x2)\n",
    "print()\n",
    "print(x)"
   ]
  },
  {
   "cell_type": "markdown",
   "id": "4c0e16d0-4435-4b4a-add1-8cce097c6310",
   "metadata": {},
   "source": [
    "# stack() for joining"
   ]
  },
  {
   "cell_type": "code",
   "execution_count": 4,
   "id": "91da2cbb-85cf-4d8a-a746-c7cebde54f53",
   "metadata": {},
   "outputs": [
    {
     "name": "stdout",
     "output_type": "stream",
     "text": [
      "[1 2 3 4]\n",
      "\n",
      "[5 6 7 8]\n",
      "\n",
      "[1 2 3 4 5 6 7 8]\n"
     ]
    }
   ],
   "source": [
    "# horizontaly\n",
    "x1=np.array([1,2,3,4])\n",
    "x2=np.array([5,6,7,8])\n",
    "print(x1)\n",
    "print()\n",
    "print(x2)\n",
    "print()\n",
    "x=np.hstack((x1,x2))\n",
    "print(x)"
   ]
  },
  {
   "cell_type": "code",
   "execution_count": 5,
   "id": "b799ea59-bee8-4250-a74d-2ca1e9beef9d",
   "metadata": {},
   "outputs": [
    {
     "name": "stdout",
     "output_type": "stream",
     "text": [
      "[1 2 3 4]\n",
      "\n",
      "[5 6 7 8]\n",
      "\n",
      "[[1 2 3 4]\n",
      " [5 6 7 8]]\n"
     ]
    }
   ],
   "source": [
    "# verticaly\n",
    "x1=np.array([1,2,3,4])\n",
    "x2=np.array([5,6,7,8])\n",
    "x=np.vstack((x1,x2))\n",
    "print(x1)\n",
    "print()\n",
    "print(x2)\n",
    "print()\n",
    "print(x)"
   ]
  },
  {
   "cell_type": "code",
   "execution_count": 6,
   "id": "bae1f35a-73fe-4d12-90db-0a20eefd3ebd",
   "metadata": {},
   "outputs": [
    {
     "name": "stdout",
     "output_type": "stream",
     "text": [
      "[1 2 3 4]\n",
      "\n",
      "[5 6 7 8]\n",
      "\n",
      "[[[1 5]\n",
      "  [2 6]\n",
      "  [3 7]\n",
      "  [4 8]]]\n"
     ]
    }
   ],
   "source": [
    "# height\n",
    "x1=np.array([1,2,3,4])\n",
    "x2=np.array([5,6,7,8])\n",
    "x=np.dstack((x1,x2))\n",
    "print(x1)\n",
    "print()\n",
    "print(x2)\n",
    "print()\n",
    "print(x)"
   ]
  },
  {
   "cell_type": "markdown",
   "id": "7add1584-5da0-4982-8127-2c7d268cd77a",
   "metadata": {},
   "source": [
    "# split ()"
   ]
  },
  {
   "cell_type": "code",
   "execution_count": 7,
   "id": "7829cf16-abea-49af-a147-a7dc0c1c3209",
   "metadata": {},
   "outputs": [
    {
     "name": "stdout",
     "output_type": "stream",
     "text": [
      "[1 2 3 4 5 6]\n",
      "\n",
      "[array([1, 2]), array([3, 4]), array([5, 6])]\n"
     ]
    }
   ],
   "source": [
    "# 1D array_split(variable,partisionNumber)\n",
    "x=np.array([1,2,3,4,5,6])\n",
    "print(x)\n",
    "print()\n",
    "x1=np.array_split(x,3)\n",
    "print(x1)\n"
   ]
  },
  {
   "cell_type": "code",
   "execution_count": 8,
   "id": "72e8c635-c66d-4243-a484-c9b9c877b394",
   "metadata": {},
   "outputs": [
    {
     "name": "stdout",
     "output_type": "stream",
     "text": [
      "[1 2 3 4 5 6]\n",
      "\n",
      "[array([1, 2]), array([3, 4]), array([5, 6])]\n",
      "\n",
      "[1 2]\n",
      "[3 4]\n",
      "[5 6]\n"
     ]
    }
   ],
   "source": [
    "# 1D array_split(variable,partisionNumber)\n",
    "x=np.array([1,2,3,4,5,6])\n",
    "print(x)\n",
    "print()\n",
    "x1=np.array_split(x,3)\n",
    "print(x1)\n",
    "print()\n",
    "print(x1[0])\n",
    "print(x1[1])\n",
    "print(x1[2])"
   ]
  },
  {
   "cell_type": "code",
   "execution_count": 9,
   "id": "e528c7f3-8622-4968-ad22-dd0513695bbc",
   "metadata": {},
   "outputs": [
    {
     "name": "stdout",
     "output_type": "stream",
     "text": [
      "[[1 2]\n",
      " [3 4]\n",
      " [5 6]]\n",
      "\n",
      "[array([[1, 2]]), array([[3, 4]]), array([[5, 6]])]\n"
     ]
    }
   ],
   "source": [
    "# 2D array_split\n",
    "x=np.array([[1,2],[3,4],[5,6]])\n",
    "print(x)\n",
    "print()\n",
    "x1=np.array_split(x,3)\n",
    "print(x1)\n"
   ]
  },
  {
   "cell_type": "code",
   "execution_count": null,
   "id": "14ff452f-2c84-443b-9c57-52c3fcf3317a",
   "metadata": {},
   "outputs": [],
   "source": []
  }
 ],
 "metadata": {
  "kernelspec": {
   "display_name": "Python 3 (ipykernel)",
   "language": "python",
   "name": "python3"
  },
  "language_info": {
   "codemirror_mode": {
    "name": "ipython",
    "version": 3
   },
   "file_extension": ".py",
   "mimetype": "text/x-python",
   "name": "python",
   "nbconvert_exporter": "python",
   "pygments_lexer": "ipython3",
   "version": "3.12.7"
  }
 },
 "nbformat": 4,
 "nbformat_minor": 5
}
