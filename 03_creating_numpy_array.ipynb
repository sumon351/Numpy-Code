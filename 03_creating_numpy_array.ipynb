{
 "cells": [
  {
   "cell_type": "markdown",
   "id": "f57ea97f-1ff1-4d3e-9123-0cdcc95d7204",
   "metadata": {},
   "source": [
    "# array"
   ]
  },
  {
   "cell_type": "code",
   "execution_count": 1,
   "id": "0012fcf9-9719-43cb-84c7-88dd09eb1a1d",
   "metadata": {},
   "outputs": [
    {
     "name": "stdout",
     "output_type": "stream",
     "text": [
      "[1 2 3 4]\n"
     ]
    }
   ],
   "source": [
    "# basic\n",
    "import numpy as np\n",
    "x=[1,2,3,4]\n",
    "y=np.array(x)\n",
    "print(y)"
   ]
  },
  {
   "cell_type": "code",
   "execution_count": 2,
   "id": "019f2565-3df6-4d20-a489-6473b02e7ea0",
   "metadata": {},
   "outputs": [
    {
     "name": "stdout",
     "output_type": "stream",
     "text": [
      "[1 2 3 4]\n",
      "<class 'numpy.ndarray'>\n"
     ]
    }
   ],
   "source": [
    "# array create with data type\n",
    "import numpy as np\n",
    "arr=np.array([1,2,3,4])\n",
    "print(arr)\n",
    "print(type(arr))"
   ]
  },
  {
   "cell_type": "code",
   "execution_count": 3,
   "id": "4da45630-69ef-4001-94c6-e3d62070ca53",
   "metadata": {},
   "outputs": [
    {
     "data": {
      "text/plain": [
       "array([1, 2, 3, 4])"
      ]
     },
     "execution_count": 3,
     "metadata": {},
     "output_type": "execute_result"
    }
   ],
   "source": [
    "# direct\n",
    "arr"
   ]
  },
  {
   "cell_type": "code",
   "execution_count": 4,
   "id": "78e31fd2-d7c8-457c-b44c-d8135ea0a463",
   "metadata": {},
   "outputs": [
    {
     "name": "stdin",
     "output_type": "stream",
     "text": [
      "enter :  1\n",
      "enter :  2\n",
      "enter :  3\n",
      "enter :  4\n"
     ]
    },
    {
     "name": "stdout",
     "output_type": "stream",
     "text": [
      "[1 2 3 4]\n"
     ]
    }
   ],
   "source": [
    "# taking input and print array with append function\n",
    "l=[]\n",
    "for i in range(1,5):\n",
    "    int_1=int(input('enter : '))\n",
    "    l.append(int_1)\n",
    "arr=np.array(l)\n",
    "print(arr)"
   ]
  },
  {
   "cell_type": "markdown",
   "id": "8119b654-595d-43d3-99b1-bc9e339404c6",
   "metadata": {},
   "source": [
    "# types of aaray\n",
    "# 1-D\n",
    "# 2-D\n",
    "# 3-D\n",
    "# Higher Dimensional arrays"
   ]
  },
  {
   "cell_type": "code",
   "execution_count": 5,
   "id": "c84ba3af-6e5c-4847-a608-082fbd1d652d",
   "metadata": {},
   "outputs": [
    {
     "name": "stdout",
     "output_type": "stream",
     "text": [
      "[1 2 3 4]\n",
      "This is 1 Dimensional array\n"
     ]
    }
   ],
   "source": [
    "# 1-D Array\n",
    "x=np.array([1,2,3,4])\n",
    "print(x)\n",
    "print('This is', x.ndim, 'Dimensional array')"
   ]
  },
  {
   "cell_type": "code",
   "execution_count": 6,
   "id": "ba760d99-067a-4719-8bb4-5be5b0d02667",
   "metadata": {},
   "outputs": [
    {
     "name": "stdout",
     "output_type": "stream",
     "text": [
      "[[1 2 3]\n",
      " [4 5 6]]\n",
      "This is 2 Dimensional array\n"
     ]
    }
   ],
   "source": [
    "# 2-D Array\n",
    "x=np.array([[1,2,3],[4,5,6]])\n",
    "print(x)\n",
    "print('This is', x.ndim, 'Dimensional array')"
   ]
  },
  {
   "cell_type": "code",
   "execution_count": 7,
   "id": "3a13a24b-7be5-4998-a9ab-8faf15e53b08",
   "metadata": {},
   "outputs": [
    {
     "name": "stdout",
     "output_type": "stream",
     "text": [
      "[[[ 1  2  3]\n",
      "  [ 4  5  6]\n",
      "  [ 6  7  8]\n",
      "  [ 9 10 11]]]\n",
      "This is 3 Dimensional array\n"
     ]
    }
   ],
   "source": [
    "# 3-D array\n",
    "x=np.array([[[1,2,3],[4,5,6],[6,7,8],[9,10,11]]])\n",
    "print(x)\n",
    "print('This is', x.ndim, 'Dimensional array')"
   ]
  },
  {
   "cell_type": "code",
   "execution_count": 8,
   "id": "1cb476fa-1b8d-4bdd-aac0-c76d3fac950f",
   "metadata": {},
   "outputs": [
    {
     "name": "stdout",
     "output_type": "stream",
     "text": [
      "[[[[1 2 3 4 5]]]]\n",
      "This is 4 Dimensional array\n"
     ]
    }
   ],
   "source": [
    "# 4-D array\n",
    "x=np.array([1,2,3,4,5],ndmin=4)\n",
    "print(x)\n",
    "print('This is', x.ndim, 'Dimensional array')"
   ]
  },
  {
   "cell_type": "code",
   "execution_count": 9,
   "id": "1e461c2e-677e-4d04-a2d7-c3448ba0fed5",
   "metadata": {},
   "outputs": [
    {
     "name": "stdout",
     "output_type": "stream",
     "text": [
      "[[[[[[[[[[1 2 3 4 5]]]]]]]]]]\n",
      "This is 10 Dimensional array\n"
     ]
    }
   ],
   "source": [
    "# 10-D array\n",
    "x=np.array([1,2,3,4,5],ndmin=10)\n",
    "print(x)\n",
    "print('This is', x.ndim, 'Dimensional array')"
   ]
  },
  {
   "cell_type": "code",
   "execution_count": null,
   "id": "456cfd36-643a-4741-a02e-52c274fb4159",
   "metadata": {},
   "outputs": [],
   "source": []
  }
 ],
 "metadata": {
  "kernelspec": {
   "display_name": "Python 3 (ipykernel)",
   "language": "python",
   "name": "python3"
  },
  "language_info": {
   "codemirror_mode": {
    "name": "ipython",
    "version": 3
   },
   "file_extension": ".py",
   "mimetype": "text/x-python",
   "name": "python",
   "nbconvert_exporter": "python",
   "pygments_lexer": "ipython3",
   "version": "3.12.7"
  }
 },
 "nbformat": 4,
 "nbformat_minor": 5
}
