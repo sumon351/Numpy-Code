{
 "cells": [
  {
   "cell_type": "markdown",
   "id": "d8b1c3a0-bb76-4644-93bf-0db3e86f9f28",
   "metadata": {},
   "source": [
    "# numpy insert array"
   ]
  },
  {
   "cell_type": "code",
   "execution_count": 1,
   "id": "a551e182-4b63-48f8-a7a8-5da0add4afa9",
   "metadata": {},
   "outputs": [
    {
     "name": "stdout",
     "output_type": "stream",
     "text": [
      "[1 2 3 4]\n",
      "[ 1  2 40  3  4]\n"
     ]
    }
   ],
   "source": [
    "import numpy as np\n",
    "x=np.array([1,2,3,4])\n",
    "print(x)\n",
    "x1=np.insert(x,2,40) # arrayName,Position,Value\n",
    "print(x1)\n"
   ]
  },
  {
   "cell_type": "code",
   "execution_count": 2,
   "id": "5952061f-44e0-4e71-98d7-9ead2683e64e",
   "metadata": {},
   "outputs": [
    {
     "name": "stdout",
     "output_type": "stream",
     "text": [
      "[1 2 3 4]\n",
      "[ 1  2 40  3  4 40]\n"
     ]
    }
   ],
   "source": [
    "import numpy as np\n",
    "x=np.array([1,2,3,4])\n",
    "print(x)\n",
    "x1=np.insert(x,(2,4),40) # arrayName,Position,Value\n",
    "print(x1)"
   ]
  },
  {
   "cell_type": "code",
   "execution_count": 3,
   "id": "f1f46252-0039-46db-b48d-86b2231c141a",
   "metadata": {},
   "outputs": [
    {
     "name": "stdout",
     "output_type": "stream",
     "text": [
      "[[ 1  2  3  4]\n",
      " [ 5  6  7  8]\n",
      " [10 10 10 10]]\n"
     ]
    }
   ],
   "source": [
    "# 2D array\n",
    "x=np.array([[1,2,3,4],[5,6,7,8]])\n",
    "x1=np.insert(x,2,10,axis=0)\n",
    "print(x1)"
   ]
  },
  {
   "cell_type": "code",
   "execution_count": 4,
   "id": "0901ad7e-e336-41ea-b152-4d1da7785724",
   "metadata": {},
   "outputs": [
    {
     "name": "stdout",
     "output_type": "stream",
     "text": [
      "[[ 1  2 10  3  4]\n",
      " [ 5  6 10  7  8]]\n"
     ]
    }
   ],
   "source": [
    "# 2D array\n",
    "x=np.array([[1,2,3,4],[5,6,7,8]])\n",
    "x1=np.insert(x,2,10,axis=1)\n",
    "print(x1)"
   ]
  },
  {
   "cell_type": "markdown",
   "id": "aeae1e07-fb74-42b0-86b9-58136ce92367",
   "metadata": {},
   "source": [
    "# delete array"
   ]
  },
  {
   "cell_type": "code",
   "execution_count": 5,
   "id": "4b1c5136-d442-403d-ae3f-4e4b1bef91e0",
   "metadata": {},
   "outputs": [
    {
     "name": "stdout",
     "output_type": "stream",
     "text": [
      "[1 2 3 4]\n",
      "\n",
      "[1 2 4]\n"
     ]
    }
   ],
   "source": [
    "import numpy as np\n",
    "x=np.array([1,2,3,4])\n",
    "print(x)\n",
    "print()\n",
    "d=np.delete(x,2) # varNmame , Position(values index)\n",
    "print(d)"
   ]
  },
  {
   "cell_type": "code",
   "execution_count": null,
   "id": "e44d9add-b4f0-42bf-89d6-ef370d221c7f",
   "metadata": {},
   "outputs": [],
   "source": []
  }
 ],
 "metadata": {
  "kernelspec": {
   "display_name": "Python 3 (ipykernel)",
   "language": "python",
   "name": "python3"
  },
  "language_info": {
   "codemirror_mode": {
    "name": "ipython",
    "version": 3
   },
   "file_extension": ".py",
   "mimetype": "text/x-python",
   "name": "python",
   "nbconvert_exporter": "python",
   "pygments_lexer": "ipython3",
   "version": "3.12.7"
  }
 },
 "nbformat": 4,
 "nbformat_minor": 5
}
