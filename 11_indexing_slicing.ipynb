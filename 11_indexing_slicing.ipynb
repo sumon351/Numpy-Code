{
 "cells": [
  {
   "cell_type": "markdown",
   "id": "05c3bbba-ee13-4e52-a21a-5ad1d846956a",
   "metadata": {},
   "source": [
    "# indexing"
   ]
  },
  {
   "cell_type": "code",
   "execution_count": 1,
   "id": "ae80b275-3417-459c-afeb-88075ef8f45f",
   "metadata": {},
   "outputs": [],
   "source": [
    "import numpy as np"
   ]
  },
  {
   "cell_type": "code",
   "execution_count": 2,
   "id": "27a99342-da27-4c06-a707-bf3a5818dbc3",
   "metadata": {},
   "outputs": [
    {
     "name": "stdout",
     "output_type": "stream",
     "text": [
      "3\n"
     ]
    }
   ],
   "source": [
    "# 1D array indexing\n",
    "x=np.array([1,4,3,5,7])\n",
    "print(x[2])"
   ]
  },
  {
   "cell_type": "code",
   "execution_count": 3,
   "id": "249ab2b5-2f8b-4c5c-9b4a-9bb76243335a",
   "metadata": {},
   "outputs": [
    {
     "name": "stdout",
     "output_type": "stream",
     "text": [
      "7\n"
     ]
    }
   ],
   "source": [
    "x=np.array([1,4,3,5,7])\n",
    "print(x[-1])"
   ]
  },
  {
   "cell_type": "code",
   "execution_count": 4,
   "id": "a2b3a4f8-4048-4e4d-acaf-415a7440b81f",
   "metadata": {},
   "outputs": [
    {
     "name": "stdout",
     "output_type": "stream",
     "text": [
      "5\n"
     ]
    }
   ],
   "source": [
    "x=np.array([1,4,3,5,7])\n",
    "print(x[-2])"
   ]
  },
  {
   "cell_type": "code",
   "execution_count": 5,
   "id": "19353abe-4e2a-4b12-ba18-ed42a5b6f2b0",
   "metadata": {},
   "outputs": [
    {
     "name": "stdout",
     "output_type": "stream",
     "text": [
      "[[1 2 3 4]\n",
      " [5 6 7 8]]\n",
      "2\n",
      "\n",
      "8\n"
     ]
    }
   ],
   "source": [
    "# 2D array indexing\n",
    "x=np.array([[1,2,3,4],[5,6,7,8]])\n",
    "print(x)\n",
    "print(x.ndim)\n",
    "print()\n",
    "print(x[1,3]) # row then index"
   ]
  },
  {
   "cell_type": "code",
   "execution_count": 6,
   "id": "54aa7292-6b15-4f11-b737-56ec4e92658a",
   "metadata": {},
   "outputs": [
    {
     "name": "stdout",
     "output_type": "stream",
     "text": [
      "[[1 2 3 4]\n",
      " [5 6 7 8]]\n",
      "2\n",
      "\n",
      "1\n"
     ]
    }
   ],
   "source": [
    "# 2D array indexing\n",
    "x=np.array([[1,2,3,4],[5,6,7,8]])\n",
    "print(x)\n",
    "print(x.ndim)\n",
    "print()\n",
    "print(x[0,0]) # row then index"
   ]
  },
  {
   "cell_type": "code",
   "execution_count": 7,
   "id": "2680d876-cebf-4630-b7f6-c9662cf88e0b",
   "metadata": {},
   "outputs": [
    {
     "name": "stdout",
     "output_type": "stream",
     "text": [
      "[[[ 1  2  3]\n",
      "  [ 4  5  6]]\n",
      "\n",
      " [[ 7  8  9]\n",
      "  [10 11 12]]]\n",
      "3\n",
      "(2, 2, 3)\n",
      "Output :\n",
      "12\n"
     ]
    }
   ],
   "source": [
    "# 3D array indexing\n",
    "x=np.array([[[1,2,3],[4,5,6]],[[7,8,9],[10,11,12]]])\n",
    "print(x)\n",
    "print(x.ndim)\n",
    "print(x.shape)\n",
    "print('Output :')\n",
    "print(x[1,1,2])\n"
   ]
  },
  {
   "cell_type": "code",
   "execution_count": 8,
   "id": "b1758b71-dc65-484b-88cd-35f2792fc41c",
   "metadata": {},
   "outputs": [
    {
     "name": "stdout",
     "output_type": "stream",
     "text": [
      "[[[ 1  2  3]\n",
      "  [ 4  5  6]]\n",
      "\n",
      " [[ 7  8  9]\n",
      "  [10 11 12]]]\n",
      "\n",
      "10\n"
     ]
    }
   ],
   "source": [
    "# 3d array indexing\n",
    "x=np.array([[[1,2,3],[4,5,6]],[[7,8,9],[10,11,12]]])\n",
    "print(x)\n",
    "print()\n",
    "print(x[1,1,0])\n"
   ]
  },
  {
   "cell_type": "markdown",
   "id": "4a604bf4-61b7-41c7-9575-10f4a413e713",
   "metadata": {},
   "source": [
    "# slicing"
   ]
  },
  {
   "cell_type": "code",
   "execution_count": 9,
   "id": "67fc3601-d77d-4955-a70b-b04ce996d4ac",
   "metadata": {},
   "outputs": [
    {
     "name": "stdout",
     "output_type": "stream",
     "text": [
      "[4 3 5 2 6 7]\n",
      "[4 3 5]\n",
      "[5 2 6 7]\n",
      "[4 5 6]\n",
      "[3 5]\n",
      "[7 6 2 5 3 4]\n",
      "[7 2 3]\n"
     ]
    }
   ],
   "source": [
    "# 1D array slicing\n",
    "import numpy as np\n",
    "x=np.array([4,3,5,2,6,7])\n",
    "print(x[::])\n",
    "print(x[:3])\n",
    "print(x[2:])\n",
    "print(x[::2])\n",
    "print(x[1:3])\n",
    "print(x[::-1])\n",
    "print(x[::-2])"
   ]
  },
  {
   "cell_type": "code",
   "execution_count": 10,
   "id": "2dbf437f-78d7-49a3-8380-20e6752212b6",
   "metadata": {},
   "outputs": [
    {
     "name": "stdout",
     "output_type": "stream",
     "text": [
      "[[2 3 1]\n",
      " [6 7 8]]\n",
      "\n",
      "[2 3 1]\n"
     ]
    }
   ],
   "source": [
    "# 2D array slicing\n",
    "x=np.array([[2,3,1],[6,7,8]])\n",
    "print(x)\n",
    "print()\n",
    "print(x[0,::])"
   ]
  },
  {
   "cell_type": "code",
   "execution_count": 11,
   "id": "657d755b-1095-4a09-98d5-8f1067b0bafc",
   "metadata": {},
   "outputs": [
    {
     "name": "stdout",
     "output_type": "stream",
     "text": [
      "[[2 3 1]\n",
      " [6 7 8]]\n",
      "\n",
      "[6 7 8]\n"
     ]
    }
   ],
   "source": [
    "# 2D array slicing\n",
    "x=np.array([[2,3,1],[6,7,8]])\n",
    "print(x)\n",
    "print()\n",
    "print(x[1,::])"
   ]
  },
  {
   "cell_type": "code",
   "execution_count": 12,
   "id": "a3a2655e-b69a-4c27-8b83-b659e69ec592",
   "metadata": {},
   "outputs": [
    {
     "name": "stdout",
     "output_type": "stream",
     "text": [
      "[[2 3 1]\n",
      " [6 7 8]]\n",
      "\n",
      "[1 3 2]\n"
     ]
    }
   ],
   "source": [
    "# 2D array slicing\n",
    "x=np.array([[2,3,1],[6,7,8]])\n",
    "print(x)\n",
    "print()\n",
    "print(x[0,::-1])"
   ]
  },
  {
   "cell_type": "code",
   "execution_count": 13,
   "id": "e5f6301e-46c3-4db6-a884-d2779fe77499",
   "metadata": {},
   "outputs": [
    {
     "name": "stdout",
     "output_type": "stream",
     "text": [
      "[[[ 1  2  3  4]\n",
      "  [ 5  6  7  8]]\n",
      "\n",
      " [[ 9 10 11 12]\n",
      "  [13 14 15 16]]]\n",
      "\n",
      "[14 15 16]\n"
     ]
    }
   ],
   "source": [
    "# 3D array slicing\n",
    "x=np.array([[[1,2,3,4],[5,6,7,8]],[[9,10,11,12],[13,14,15,16]]])\n",
    "print(x)\n",
    "print()\n",
    "print(x[1,1,1:])"
   ]
  },
  {
   "cell_type": "code",
   "execution_count": 14,
   "id": "828e82a0-d74c-4eeb-bf65-20c41dbfe307",
   "metadata": {},
   "outputs": [
    {
     "name": "stdout",
     "output_type": "stream",
     "text": [
      "[[[ 1  2  3  4]\n",
      "  [ 5  6  7  8]]\n",
      "\n",
      " [[ 9 10 11 12]\n",
      "  [13 14 15 16]]]\n",
      "\n",
      "[8 7 6 5]\n"
     ]
    }
   ],
   "source": [
    "# 3D array slicing\n",
    "x=np.array([[[1,2,3,4],[5,6,7,8]],[[9,10,11,12],[13,14,15,16]]])\n",
    "print(x)\n",
    "print()\n",
    "print(x[0,1,::-1])"
   ]
  },
  {
   "cell_type": "code",
   "execution_count": null,
   "id": "231f22da-280f-4a29-a6ec-128d474f9e5e",
   "metadata": {},
   "outputs": [],
   "source": []
  }
 ],
 "metadata": {
  "kernelspec": {
   "display_name": "Python 3 (ipykernel)",
   "language": "python",
   "name": "python3"
  },
  "language_info": {
   "codemirror_mode": {
    "name": "ipython",
    "version": 3
   },
   "file_extension": ".py",
   "mimetype": "text/x-python",
   "name": "python",
   "nbconvert_exporter": "python",
   "pygments_lexer": "ipython3",
   "version": "3.12.7"
  }
 },
 "nbformat": 4,
 "nbformat_minor": 5
}
