{
 "cells": [
  {
   "cell_type": "markdown",
   "id": "9eaa968d-fea7-4859-90fa-cc45bb632477",
   "metadata": {},
   "source": [
    "# copy vs view"
   ]
  },
  {
   "cell_type": "code",
   "execution_count": null,
   "id": "3bbbe8d7-62f9-4eb1-b4fb-14da2651f542",
   "metadata": {},
   "outputs": [],
   "source": [
    "import numpy as np\n",
    "x=np.array([1,2,3,4])\n",
    "cpy=x.copy()\n",
    "print('x :',x)\n",
    "print('copy :',cpy)"
   ]
  },
  {
   "cell_type": "code",
   "execution_count": null,
   "id": "d58aebf6-e10c-4a0d-8cae-c80d10ddb4a0",
   "metadata": {},
   "outputs": [],
   "source": [
    "x=np.array([1,2,3,4])\n",
    "vw=x.view()\n",
    "print('x :',x)\n",
    "print('view :',vw)"
   ]
  },
  {
   "cell_type": "code",
   "execution_count": null,
   "id": "58ccc3ea-ae4d-47cb-bab7-5b0e7fa6ee49",
   "metadata": {},
   "outputs": [],
   "source": [
    "# but differences is :\n",
    "x=np.array([1,2,3,4])\n",
    "cpy=x.copy()\n",
    "x[0]=19\n",
    "print('x :',x) # original data must be changed\n",
    "print('copy :',cpy) # copy data must not be changed"
   ]
  },
  {
   "cell_type": "code",
   "execution_count": null,
   "id": "ab9a0f4c-cc7e-4922-ab9e-5702b58776c8",
   "metadata": {},
   "outputs": [],
   "source": [
    "x=np.array([1,2,3,4])\n",
    "vw=x.view()\n",
    "x[0]=19\n",
    "print('x :',x) # original data must be changed\n",
    "print('view :',vw) # view data must be changed"
   ]
  },
  {
   "cell_type": "code",
   "execution_count": null,
   "id": "eef13e19-95ff-4b31-b96e-ac4ed7ad708d",
   "metadata": {},
   "outputs": [],
   "source": []
  }
 ],
 "metadata": {
  "kernelspec": {
   "display_name": "Python 3 (ipykernel)",
   "language": "python",
   "name": "python3"
  },
  "language_info": {
   "codemirror_mode": {
    "name": "ipython",
    "version": 3
   },
   "file_extension": ".py",
   "mimetype": "text/x-python",
   "name": "python",
   "nbconvert_exporter": "python",
   "pygments_lexer": "ipython3",
   "version": "3.12.7"
  }
 },
 "nbformat": 4,
 "nbformat_minor": 5
}
