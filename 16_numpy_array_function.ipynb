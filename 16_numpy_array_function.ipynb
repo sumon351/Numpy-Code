{
 "cells": [
  {
   "cell_type": "markdown",
   "id": "c9e644b6-aa71-4f0e-8368-2cd3672fccf6",
   "metadata": {},
   "source": [
    "# shuffle"
   ]
  },
  {
   "cell_type": "code",
   "execution_count": 5,
   "id": "58e3aba4-408f-48c3-8786-95dff63c2575",
   "metadata": {},
   "outputs": [
    {
     "name": "stdout",
     "output_type": "stream",
     "text": [
      "[2 3 5 1 4 6]\n"
     ]
    }
   ],
   "source": [
    "import numpy as np\n",
    "x=np.array([1,2,3,4,5,6])\n",
    "np.random.shuffle(x)\n",
    "print(x)"
   ]
  },
  {
   "cell_type": "markdown",
   "id": "23d256a1-3d08-4739-9ef0-b933fba272bb",
   "metadata": {},
   "source": [
    "# unique"
   ]
  },
  {
   "cell_type": "code",
   "execution_count": 6,
   "id": "f4c32afa-4f78-4ba3-963e-13a2df73e080",
   "metadata": {},
   "outputs": [
    {
     "name": "stdout",
     "output_type": "stream",
     "text": [
      "[1 2 3 4 2 5 2 7]\n",
      "\n",
      "[1 2 3 4 5 7]\n"
     ]
    }
   ],
   "source": [
    "x=np.array([1,2,3,4,2,5,2,7])\n",
    "x1=np.unique(x)\n",
    "print(x)\n",
    "print()\n",
    "print(x1)"
   ]
  },
  {
   "cell_type": "code",
   "execution_count": 7,
   "id": "3c1bca9e-5cb7-4d6b-b220-b6ab83ed6549",
   "metadata": {},
   "outputs": [
    {
     "name": "stdout",
     "output_type": "stream",
     "text": [
      "(array([1, 2, 3, 4, 5, 7]), array([0, 1, 2, 3, 5, 7], dtype=int64))\n"
     ]
    }
   ],
   "source": [
    "x=np.array([1,2,3,4,2,5,2,7])\n",
    "x1=np.unique(x,return_index=True)\n",
    "\n",
    "print(x1)"
   ]
  },
  {
   "cell_type": "code",
   "execution_count": 8,
   "id": "62aa6462-3c10-4b9c-8d5c-27349432e179",
   "metadata": {},
   "outputs": [
    {
     "name": "stdout",
     "output_type": "stream",
     "text": [
      "(array([1, 2, 3, 4, 5, 7]), array([0, 1, 2, 3, 5, 7], dtype=int64), array([1, 3, 1, 1, 1, 1], dtype=int64))\n"
     ]
    }
   ],
   "source": [
    "x=np.array([1,2,3,4,2,5,2,7])\n",
    "x1=np.unique(x,return_index=True,return_counts=True)\n",
    "\n",
    "print(x1)"
   ]
  },
  {
   "cell_type": "markdown",
   "id": "c407c8ca-b0bc-42f1-a04f-56e5554e64ed",
   "metadata": {},
   "source": [
    "# resize"
   ]
  },
  {
   "cell_type": "code",
   "execution_count": 9,
   "id": "8e9fb53d-2df0-45cf-9925-b3594f7db164",
   "metadata": {},
   "outputs": [
    {
     "name": "stdout",
     "output_type": "stream",
     "text": [
      "[[1 2 3]\n",
      " [4 5 6]]\n"
     ]
    }
   ],
   "source": [
    "x=np.array([1,2,3,4,5,6])\n",
    "y=np.resize(x,(2,3))\n",
    "print(y)\n"
   ]
  },
  {
   "cell_type": "code",
   "execution_count": 10,
   "id": "08978448-ad2c-4bfc-90cf-f59be5b523ff",
   "metadata": {},
   "outputs": [
    {
     "name": "stdout",
     "output_type": "stream",
     "text": [
      "[[1 2 3]\n",
      " [4 5 6]\n",
      " [7 8 9]]\n"
     ]
    }
   ],
   "source": [
    "x=np.array([1,2,3,4,5,6,7,8,9])\n",
    "y=np.resize(x,(3,3))\n",
    "print(y)"
   ]
  },
  {
   "cell_type": "code",
   "execution_count": 11,
   "id": "d8c765cf-82b2-45f3-81d6-2ec8535eed73",
   "metadata": {},
   "outputs": [
    {
     "name": "stdout",
     "output_type": "stream",
     "text": [
      "[[1 2]\n",
      " [3 4]\n",
      " [5 6]]\n"
     ]
    }
   ],
   "source": [
    "x=np.array([1,2,3,4,5,6])\n",
    "y=np.resize(x,(3,2))\n",
    "print(y)"
   ]
  },
  {
   "cell_type": "markdown",
   "id": "621d74af-f8f3-4e0e-bbf9-1c1bffe493f5",
   "metadata": {},
   "source": [
    "# flatten"
   ]
  },
  {
   "cell_type": "code",
   "execution_count": 12,
   "id": "8dd46b18-99e1-4cd3-a00f-1160934e0d61",
   "metadata": {},
   "outputs": [
    {
     "name": "stdout",
     "output_type": "stream",
     "text": [
      "[1 2 3 4 5 6]\n"
     ]
    }
   ],
   "source": [
    "x=np.array([1,2,3,4,5,6])\n",
    "y=np.resize(x,(3,2)) # this is 2D array \n",
    "z=y.flatten() # converted 1D array\n",
    "print(z)"
   ]
  },
  {
   "cell_type": "code",
   "execution_count": null,
   "id": "05cd4304-221f-4183-923c-163d6635ba26",
   "metadata": {},
   "outputs": [],
   "source": []
  }
 ],
 "metadata": {
  "kernelspec": {
   "display_name": "Python 3 (ipykernel)",
   "language": "python",
   "name": "python3"
  },
  "language_info": {
   "codemirror_mode": {
    "name": "ipython",
    "version": 3
   },
   "file_extension": ".py",
   "mimetype": "text/x-python",
   "name": "python",
   "nbconvert_exporter": "python",
   "pygments_lexer": "ipython3",
   "version": "3.12.7"
  }
 },
 "nbformat": 4,
 "nbformat_minor": 5
}
