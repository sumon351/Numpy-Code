{
 "cells": [
  {
   "cell_type": "markdown",
   "id": "6066aef9-13e1-4041-a38a-ff5a3a1ce485",
   "metadata": {},
   "source": [
    "# data type in numpy array"
   ]
  },
  {
   "cell_type": "code",
   "execution_count": 1,
   "id": "b499878d-36fe-4040-b7ec-278c05c454d6",
   "metadata": {},
   "outputs": [
    {
     "name": "stdout",
     "output_type": "stream",
     "text": [
      "Data Type : int32\n"
     ]
    }
   ],
   "source": [
    "import numpy as np\n",
    "x=np.array([1,2,3])\n",
    "print('Data Type :', x.dtype)"
   ]
  },
  {
   "cell_type": "code",
   "execution_count": 2,
   "id": "9af60e1a-0eb6-43f2-840e-94dfa3172865",
   "metadata": {},
   "outputs": [
    {
     "name": "stdout",
     "output_type": "stream",
     "text": [
      "Data Type : float64\n"
     ]
    }
   ],
   "source": [
    "import numpy as np\n",
    "x=np.array([1.1,3.3,5.0])\n",
    "print('Data Type :', x.dtype)"
   ]
  },
  {
   "cell_type": "code",
   "execution_count": 3,
   "id": "ef981299-4bfa-4daf-95c8-3ac4693deff9",
   "metadata": {},
   "outputs": [
    {
     "name": "stdout",
     "output_type": "stream",
     "text": [
      "Data Type : <U6\n"
     ]
    }
   ],
   "source": [
    "import numpy as np\n",
    "x=np.array(['Nazmul','Tania'])\n",
    "print('Data Type :', x.dtype)"
   ]
  },
  {
   "cell_type": "code",
   "execution_count": 4,
   "id": "d5acda7d-3d33-4658-b87f-7c8deb79edb3",
   "metadata": {},
   "outputs": [
    {
     "name": "stdout",
     "output_type": "stream",
     "text": [
      "Data Type : <U11\n"
     ]
    }
   ],
   "source": [
    "import numpy as np\n",
    "x=np.array([1,2,3,'d','f'])\n",
    "print('Data Type :', x.dtype)"
   ]
  },
  {
   "cell_type": "markdown",
   "id": "6673c675-17cf-4488-a20e-1b4918d8ba2e",
   "metadata": {},
   "source": [
    "# i-int\n",
    "# b-bool\n",
    "# u-unsigned\n",
    "# f-float\n",
    "# c-complex\n",
    "# m-timedelta\n",
    "# M-datetime\n",
    "# O-object\n",
    "# S- string\n",
    "# U-unicode\n",
    "# V-void"
   ]
  },
  {
   "cell_type": "code",
   "execution_count": null,
   "id": "0041210b-2bd8-4697-b97b-876279678f8b",
   "metadata": {},
   "outputs": [],
   "source": [
    "# convert data type\n",
    "x=np.array([1,2,3,4],dtype=np.int8)\n",
    "print('Data Type :', x.dtype)\n",
    "print(x)"
   ]
  },
  {
   "cell_type": "code",
   "execution_count": null,
   "id": "c4870514-3045-49f9-9840-ffb4fe8cb9a0",
   "metadata": {},
   "outputs": [],
   "source": [
    "# int to float\n",
    "# convert data type\n",
    "x=np.array([1,2,3,4],dtype='f')\n",
    "print('Data Type :', x.dtype)\n",
    "print(x)\n"
   ]
  },
  {
   "cell_type": "code",
   "execution_count": null,
   "id": "efb9ad1a-a70a-45d2-8057-3525f4b286b0",
   "metadata": {},
   "outputs": [],
   "source": [
    "# another example\n",
    "x=np.array([1,2,3,4])\n",
    "new=np.float32(x)\n",
    "print('Data Type :',x.dtype)\n",
    "print(x)\n",
    "print('Data Type :',new.dtype)\n",
    "print(new)"
   ]
  },
  {
   "cell_type": "code",
   "execution_count": null,
   "id": "08239fb3-ffb3-4123-8cc5-65504488e4bf",
   "metadata": {},
   "outputs": [],
   "source": [
    "# another example\n",
    "x=np.array([1,2,3,4])\n",
    "new=np.float32(x)\n",
    "new1=np.int_(new)\n",
    "print('Data Type :',x.dtype)\n",
    "print(x)\n",
    "print('Data Type :',new.dtype)\n",
    "print(new)\n",
    "print('Data Type :',new.dtype)\n",
    "print(new1)"
   ]
  },
  {
   "cell_type": "code",
   "execution_count": null,
   "id": "86015b77-cd07-48a4-8dfc-09c882a4bb8b",
   "metadata": {},
   "outputs": [],
   "source": []
  }
 ],
 "metadata": {
  "kernelspec": {
   "display_name": "Python 3 (ipykernel)",
   "language": "python",
   "name": "python3"
  },
  "language_info": {
   "codemirror_mode": {
    "name": "ipython",
    "version": 3
   },
   "file_extension": ".py",
   "mimetype": "text/x-python",
   "name": "python",
   "nbconvert_exporter": "python",
   "pygments_lexer": "ipython3",
   "version": "3.12.7"
  }
 },
 "nbformat": 4,
 "nbformat_minor": 5
}
