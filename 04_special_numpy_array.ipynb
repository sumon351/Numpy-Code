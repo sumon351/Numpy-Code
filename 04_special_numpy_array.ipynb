{
 "cells": [
  {
   "cell_type": "markdown",
   "id": "a0c64f8e-1d94-4b4d-aa85-37af4cdb4f62",
   "metadata": {},
   "source": [
    "# array filled with 0's\n",
    "# array filled with 1's\n",
    "# create an empty array\n",
    "# an array with a range of elements\n",
    "# array diagonal element filled with 1's\n",
    "# create an array with values that are spaced linearly in a specified interval"
   ]
  },
  {
   "cell_type": "markdown",
   "id": "3b421ce3-ad1e-479d-b281-93a89caa6779",
   "metadata": {},
   "source": [
    "# filled 0's"
   ]
  },
  {
   "cell_type": "code",
   "execution_count": 1,
   "id": "b9251868-fb78-4116-a762-07f618e01a3a",
   "metadata": {},
   "outputs": [
    {
     "name": "stdout",
     "output_type": "stream",
     "text": [
      "[0. 0. 0. 0.]\n"
     ]
    }
   ],
   "source": [
    "\n",
    "import numpy as np\n",
    "x=np.zeros(4)\n",
    "print(x)"
   ]
  },
  {
   "cell_type": "code",
   "execution_count": 2,
   "id": "5d4e0c84-6480-4936-8b32-272b7df308fa",
   "metadata": {},
   "outputs": [
    {
     "name": "stdout",
     "output_type": "stream",
     "text": [
      "[[0. 0. 0.]\n",
      " [0. 0. 0.]\n",
      " [0. 0. 0.]\n",
      " [0. 0. 0.]]\n"
     ]
    }
   ],
   "source": [
    "# 2-D array with 4 rows and 3 columns\n",
    "import numpy as np\n",
    "x=np.zeros((4,3))\n",
    "print(x)"
   ]
  },
  {
   "cell_type": "markdown",
   "id": "7b576aa6-38f2-4fa5-9916-692a85c9e2f5",
   "metadata": {},
   "source": [
    "# filled with 1's"
   ]
  },
  {
   "cell_type": "code",
   "execution_count": 3,
   "id": "cd7107c1-dbb8-4ee9-bfbd-53173a8ebe14",
   "metadata": {},
   "outputs": [
    {
     "name": "stdout",
     "output_type": "stream",
     "text": [
      "[1. 1. 1. 1. 1.]\n"
     ]
    }
   ],
   "source": [
    "\n",
    "x=np.ones(5)\n",
    "print(x)"
   ]
  },
  {
   "cell_type": "code",
   "execution_count": 4,
   "id": "3d02edd5-24c8-4828-9c4b-95380983093d",
   "metadata": {},
   "outputs": [
    {
     "name": "stdout",
     "output_type": "stream",
     "text": [
      "[[1. 1. 1. 1.]\n",
      " [1. 1. 1. 1.]\n",
      " [1. 1. 1. 1.]]\n"
     ]
    }
   ],
   "source": [
    "# 2-D array with(3,4)\n",
    "x=np.ones((3,4))\n",
    "print(x)"
   ]
  },
  {
   "cell_type": "markdown",
   "id": "abaeb9f6-badc-470e-a151-9b2d163d338a",
   "metadata": {},
   "source": [
    "# empty"
   ]
  },
  {
   "cell_type": "code",
   "execution_count": 5,
   "id": "e0ca030d-200e-4bbd-8925-a75e6668079f",
   "metadata": {},
   "outputs": [
    {
     "name": "stdout",
     "output_type": "stream",
     "text": [
      "[0. 0. 0. 0.]\n"
     ]
    }
   ],
   "source": [
    "\n",
    "x=np.empty(4)\n",
    "print(x)"
   ]
  },
  {
   "cell_type": "markdown",
   "id": "bd3982e6-5271-46bc-85ee-a65eeab25851",
   "metadata": {},
   "source": [
    "# range array(arange)"
   ]
  },
  {
   "cell_type": "code",
   "execution_count": 6,
   "id": "e703e108-f150-483a-97dc-6f75ff2d71c1",
   "metadata": {},
   "outputs": [
    {
     "name": "stdout",
     "output_type": "stream",
     "text": [
      "[0 1 2 3]\n"
     ]
    }
   ],
   "source": [
    "\n",
    "x=np.arange(4)\n",
    "print(x)\n"
   ]
  },
  {
   "cell_type": "code",
   "execution_count": 7,
   "id": "38b93a91-b51c-48da-bb97-3f112d5aa32e",
   "metadata": {},
   "outputs": [
    {
     "name": "stdout",
     "output_type": "stream",
     "text": [
      "[1 2 3 4]\n"
     ]
    }
   ],
   "source": [
    "x1=np.arange(1,5)\n",
    "print(x1)"
   ]
  },
  {
   "cell_type": "code",
   "execution_count": 8,
   "id": "5d51cc2d-4123-4899-b83b-ad0fe66b6165",
   "metadata": {},
   "outputs": [
    {
     "name": "stdout",
     "output_type": "stream",
     "text": [
      "[  0  10  20  30  40  50  60  70  80  90 100]\n"
     ]
    }
   ],
   "source": [
    "x2=np.arange(0,101,10)\n",
    "print(x2)"
   ]
  },
  {
   "cell_type": "markdown",
   "id": "7b8eaa2e-2333-46f4-b879-2cedb22d490d",
   "metadata": {},
   "source": [
    "# diogonal array (default 2-D)"
   ]
  },
  {
   "cell_type": "code",
   "execution_count": 9,
   "id": "47f87f45-fccd-4ff2-9234-04cae7979c66",
   "metadata": {},
   "outputs": [
    {
     "name": "stdout",
     "output_type": "stream",
     "text": [
      "[[1. 0. 0.]\n",
      " [0. 1. 0.]\n",
      " [0. 0. 1.]]\n"
     ]
    }
   ],
   "source": [
    "\n",
    "x=np.eye(3)\n",
    "print(x)"
   ]
  },
  {
   "cell_type": "code",
   "execution_count": 10,
   "id": "28cf6561-1da1-43b5-a9af-24f8d172f6fc",
   "metadata": {},
   "outputs": [
    {
     "name": "stdout",
     "output_type": "stream",
     "text": [
      "[[1. 0. 0. 0. 0.]\n",
      " [0. 1. 0. 0. 0.]\n",
      " [0. 0. 1. 0. 0.]]\n"
     ]
    }
   ],
   "source": [
    "# diogonal array (default 2-D) with 3 rows and 5 columns\n",
    "x=np.eye(3,5)\n",
    "print(x)"
   ]
  },
  {
   "cell_type": "markdown",
   "id": "a62f83b1-c49a-4d39-9f86-53494c8b298c",
   "metadata": {},
   "source": [
    "# linspace function"
   ]
  },
  {
   "cell_type": "code",
   "execution_count": 11,
   "id": "730a84bd-aa9b-47be-b243-85862cce141d",
   "metadata": {},
   "outputs": [
    {
     "name": "stdout",
     "output_type": "stream",
     "text": [
      "[ 1.    3.25  5.5   7.75 10.  ]\n"
     ]
    }
   ],
   "source": [
    "\n",
    "x=np.linspace(1,10,num=5)\n",
    "print(x)"
   ]
  },
  {
   "cell_type": "code",
   "execution_count": 12,
   "id": "06cbc876-9958-490a-bca0-db41c9213b31",
   "metadata": {},
   "outputs": [
    {
     "name": "stdout",
     "output_type": "stream",
     "text": [
      "[ 0.   2.5  5.   7.5 10. ]\n"
     ]
    }
   ],
   "source": [
    "x=np.linspace(0,10,num=5)\n",
    "print(x)"
   ]
  },
  {
   "cell_type": "code",
   "execution_count": 13,
   "id": "85477a52-e382-4551-bfc1-3dc5a223c9de",
   "metadata": {},
   "outputs": [
    {
     "name": "stdout",
     "output_type": "stream",
     "text": [
      "[ 0.  5. 10. 15. 20.]\n"
     ]
    }
   ],
   "source": [
    "x=np.linspace(0,20,num=5)\n",
    "print(x)"
   ]
  },
  {
   "cell_type": "code",
   "execution_count": null,
   "id": "5b2d1910-1ecc-45ed-b5a4-aa29f51cb174",
   "metadata": {},
   "outputs": [],
   "source": []
  }
 ],
 "metadata": {
  "kernelspec": {
   "display_name": "Python 3 (ipykernel)",
   "language": "python",
   "name": "python3"
  },
  "language_info": {
   "codemirror_mode": {
    "name": "ipython",
    "version": 3
   },
   "file_extension": ".py",
   "mimetype": "text/x-python",
   "name": "python",
   "nbconvert_exporter": "python",
   "pygments_lexer": "ipython3",
   "version": "3.12.7"
  }
 },
 "nbformat": 4,
 "nbformat_minor": 5
}
