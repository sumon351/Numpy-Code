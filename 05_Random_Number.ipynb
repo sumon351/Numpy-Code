{
 "cells": [
  {
   "cell_type": "markdown",
   "id": "ad3a88ee-fbfa-468c-85db-02964c68e19e",
   "metadata": {},
   "source": [
    "# random number"
   ]
  },
  {
   "cell_type": "markdown",
   "id": "8ce76d7b-2a6c-4ee7-8f5e-2fcb0cbcf8cc",
   "metadata": {},
   "source": [
    "# rand()"
   ]
  },
  {
   "cell_type": "code",
   "execution_count": 1,
   "id": "100f5a8c-0dba-4fef-b97a-6bb44c02316e",
   "metadata": {},
   "outputs": [
    {
     "name": "stdout",
     "output_type": "stream",
     "text": [
      "[0.99523893 0.97201114 0.69701989 0.47020869 0.72611049 0.913698\n",
      " 0.95588582 0.58856555 0.51281933 0.52130148]\n"
     ]
    }
   ],
   "source": [
    "# using rand() and its a 1-D array and value is (0 to 1)\n",
    "import numpy as np\n",
    "x=np.random.rand(10)\n",
    "print(x)"
   ]
  },
  {
   "cell_type": "code",
   "execution_count": 2,
   "id": "557b8bfa-15dd-464e-aa6f-9f62f1b2bd00",
   "metadata": {},
   "outputs": [
    {
     "name": "stdout",
     "output_type": "stream",
     "text": [
      "[[0.06097484 0.72241692 0.86465843 0.27956792 0.08657139]\n",
      " [0.21424272 0.98754266 0.70875421 0.32574969 0.88590433]\n",
      " [0.82996278 0.89999946 0.31999012 0.76282818 0.56214769]\n",
      " [0.82028103 0.61974432 0.96606053 0.65585564 0.73629671]]\n"
     ]
    }
   ],
   "source": [
    "# creating 2-D (4,5) using rand()\n",
    "x1=np.random.rand(4,5)\n",
    "print(x1)"
   ]
  },
  {
   "cell_type": "markdown",
   "id": "9a7f2a76-7d5c-4ccc-aa0a-b5d299f14ece",
   "metadata": {},
   "source": [
    "# randn()"
   ]
  },
  {
   "cell_type": "code",
   "execution_count": 3,
   "id": "8c5418c4-4bb5-4264-8208-4067e391fd28",
   "metadata": {},
   "outputs": [
    {
     "data": {
      "text/plain": [
       "array([-0.95233107,  2.53342809,  0.4459015 ,  1.81361088,  0.96963854,\n",
       "        1.67265209, -0.63855541,  0.02031232, -0.09783438, -1.22601196])"
      ]
     },
     "execution_count": 3,
     "metadata": {},
     "output_type": "execute_result"
    }
   ],
   "source": [
    "# showed positive and negative value\n",
    "x=np.random.randn(10)\n",
    "x"
   ]
  },
  {
   "cell_type": "markdown",
   "id": "ca9de2f7-b7e5-4490-b74e-a75817f54658",
   "metadata": {},
   "source": [
    "# ranf()"
   ]
  },
  {
   "cell_type": "code",
   "execution_count": 4,
   "id": "d463c07c-1480-47c6-b206-3fd7e2cc1752",
   "metadata": {},
   "outputs": [
    {
     "data": {
      "text/plain": [
       "array([0.49378383, 0.65336816, 0.78028578, 0.32179402])"
      ]
     },
     "execution_count": 4,
     "metadata": {},
     "output_type": "execute_result"
    }
   ],
   "source": [
    "x=np.random.ranf(4)\n",
    "x"
   ]
  },
  {
   "cell_type": "markdown",
   "id": "2176d64f-8ca8-4bcd-b34c-b693c18d621c",
   "metadata": {},
   "source": [
    "# randint()"
   ]
  },
  {
   "cell_type": "code",
   "execution_count": 7,
   "id": "fdbcbcfd-cff3-4fdc-af4f-d3d7cb35eb8f",
   "metadata": {},
   "outputs": [
    {
     "data": {
      "text/plain": [
       "3"
      ]
     },
     "execution_count": 7,
     "metadata": {},
     "output_type": "execute_result"
    }
   ],
   "source": [
    "# generated random value (o to 10)\n",
    "x=np.random.randint(0,10)\n",
    "x"
   ]
  },
  {
   "cell_type": "code",
   "execution_count": 9,
   "id": "6be9e7b5-2264-4219-be16-e76f16d8306f",
   "metadata": {},
   "outputs": [
    {
     "data": {
      "text/plain": [
       "array([16, 19,  7,  5,  7])"
      ]
     },
     "execution_count": 9,
     "metadata": {},
     "output_type": "execute_result"
    }
   ],
   "source": [
    "# generated random value (1 to 20) and count the random value total is 5\n",
    "x=np.random.randint(1,20,5)\n",
    "x"
   ]
  },
  {
   "cell_type": "code",
   "execution_count": null,
   "id": "98ae720d-413a-4616-bb75-497555c195e9",
   "metadata": {},
   "outputs": [],
   "source": []
  },
  {
   "cell_type": "code",
   "execution_count": null,
   "id": "2f74f730-1e5e-4e48-9a16-c42c996cfb43",
   "metadata": {},
   "outputs": [],
   "source": []
  }
 ],
 "metadata": {
  "kernelspec": {
   "display_name": "Python 3 (ipykernel)",
   "language": "python",
   "name": "python3"
  },
  "language_info": {
   "codemirror_mode": {
    "name": "ipython",
    "version": 3
   },
   "file_extension": ".py",
   "mimetype": "text/x-python",
   "name": "python",
   "nbconvert_exporter": "python",
   "pygments_lexer": "ipython3",
   "version": "3.12.7"
  }
 },
 "nbformat": 4,
 "nbformat_minor": 5
}
